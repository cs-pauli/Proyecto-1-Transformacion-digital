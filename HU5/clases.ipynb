{
 "cells": [
  {
   "cell_type": "code",
   "execution_count": 1,
   "metadata": {},
   "outputs": [],
   "source": [
    "# Creamos una clase para leer los archivos de forma automatica, para archivos de tipo txt y xml (indicado en los distintos métdos)\n",
    "class Lectura_archivos:\n",
    "    \n",
    "    def lectura_xml (ruta_archivo_xml):\n",
    "        import os\n",
    "        import xml.etree.ElementTree as ET\n",
    "        \n",
    "        #Indica la ruta del archivo xml\n",
    "\n",
    "        tree = ET.parse(ruta_archivo_xml)\n",
    "\n",
    "        root = tree.getroot()\n",
    "\n",
    "        xml_list = []\n",
    "        for child in root:\n",
    "            xml_dict = {}\n",
    "            for subchild in child:\n",
    "                xml_dict[subchild.tag] = subchild.text\n",
    "            xml_list.append(xml_dict) # Es una lista que contiene diccionarios\n",
    "            \n",
    "        return xml_list\n",
    "\n",
    "    def lectura_txt (ruta_archivo_txt, modo = 'r'):\n",
    "\n",
    "        with open(ruta_archivo_txt,modo) as file:\n",
    "            file_source = file.readlines()\n",
    "\n",
    "        return  file_source\n",
    "    "
   ]
  },
  {
   "cell_type": "code",
   "execution_count": 3,
   "metadata": {},
   "outputs": [],
   "source": [
    "lectura = Lectura_archivos\n",
    "lectura_xml =lectura.lectura_xml('/home/adalaber/Documents/ejercicios-de-adalab/project-DA-promo-b-modulo-1-team-3/HU2/data/data_xml.xml')"
   ]
  },
  {
   "cell_type": "code",
   "execution_count": 5,
   "metadata": {},
   "outputs": [],
   "source": [
    "\n",
    "lectura_txt =lectura.lectura_txt('/home/adalaber/Documents/ejercicios-de-adalab/project-DA-promo-b-modulo-1-team-3/HU3/data_txt.txt', 'r')"
   ]
  },
  {
   "cell_type": "code",
   "execution_count": 6,
   "metadata": {},
   "outputs": [],
   "source": [
    "# Creamos una clase para limpiar los datos según pide el cliente, para los archivos de tipo xml y txt, respectivamente\n",
    "\n",
    "class Limpieza_archivos:\n",
    "\n",
    "       def limpieza_xml(ruta_archivo): #Ruta del archivo xml\n",
    "\n",
    "              import xml.etree.ElementTree as ET\n",
    "              tree = ET.parse(ruta_archivo)\n",
    "\n",
    "              root = tree.getroot()\n",
    "\n",
    "              xml_list = []\n",
    "              for child in root:\n",
    "                     xml_dict = {}\n",
    "                     for subchild in child:\n",
    "                            xml_dict[subchild.tag] = subchild.text\n",
    "                     xml_list.append(xml_dict) # Es una lista que contiene diccionarios\n",
    "              \n",
    "              for y in range(len(xml_list)):\n",
    "                            xml_list[y]['index_xml'] = xml_list[y].pop('level_0')\n",
    "                            xml_list[y]['index_sql'] = xml_list[y].pop('index')\n",
    "\n",
    "              for i in xml_list:\n",
    "                     for k, v in i.items(): \n",
    "                            if k == \"gender\":       \n",
    "                                   if v == \"0\":                     \n",
    "                                          i[k] = \"Man\"            \n",
    "                                   elif v == \"1\":                      \n",
    "                                          i[k] = \"Woman\"\n",
    "                                   elif v == \"2\":\n",
    "                                          i[k] = \"Nonbinary\"\n",
    "                                   elif v == \"3\":\n",
    "                                          i[k] = \"Prefer not to say\"\n",
    "                                   elif v == \"4\":\n",
    "                                          i[k] = \"Prefer to self-describe\"\n",
    "              datos_filas_xml = []\n",
    "              for d in xml_list:\n",
    "                     fila = tuple(d.values())\n",
    "                     datos_filas_xml.append(fila)\n",
    "                     datos_filas_xml\n",
    "                                                        \n",
    "\n",
    "              return datos_filas_xml\n",
    "\n",
    "       def limpieza_txt(ruta_archivo_txt): #Este archivo tiene que ser un formato .txt\n",
    "\n",
    "              with open(ruta_archivo_txt,mode='r') as file:\n",
    "                     file_source = file.readlines()\n",
    "\n",
    "        \n",
    "                     for string in range(0, len(file_source)):\n",
    "                            \n",
    "                            file_source[string]= file_source[string].split(\";\")\n",
    "                            \n",
    "                            for string2 in range(0,len(file_source[string])):\n",
    "\n",
    "                                   file_source[string][string2] = file_source[string][string2].strip()\n",
    "                                   \n",
    "                                   file_source[string][string2] = file_source[string][string2].replace(\"null\",\"NULL\")\n",
    "\n",
    "                                   file_source[string][string2] = file_source[string][string2].replace(\"<\",\"Under\")\n",
    "\n",
    "                                   file_source[string][string2] = file_source[string][string2].strip(\"\\n\")\n",
    "\n",
    "                     datos_txt = []\n",
    "                     for i in file_source[1:]:\n",
    "                            i = tuple(i)\n",
    "                            datos_txt.append(i)\n",
    "                     return datos_txt\n",
    "\n",
    "       def limpieza_sql(contraseña):\n",
    "\n",
    "              import mysql.connector\n",
    "              cnx = mysql.connector.connect(user='root', password=contraseña,\n",
    "                                    host='127.0.0.1', database='project1_team3')\n",
    "\n",
    "              mycursor = cnx.cursor()\n",
    "              \n",
    "              valores= ['q10_part_1', 'q10_part_2','q10_part_3', 'q10_part_4', 'q10_part_5', 'q10_part_6','q10_part_7','q10_part_8','q10_part_9','q10_part_10','q10_part_11','q10_part_12','q10_part_13','q10_part_14','q10_part_15','q10_part_16','q10_part_17','q10_other']\n",
    "              for columna in valores:\n",
    "                     try:\n",
    "                            query= f'UPDATE data_sql SET {columna} = NULL  WHERE {columna} = \"ERROR\";'\n",
    "                            mycursor.execute(query)\n",
    "                            cnx.commit()\n",
    "                            \n",
    "                     except mysql.connector.Error as err:\n",
    "                            print(err)\n",
    "                            print(\"Error Code:\", err.errno)\n",
    "                            print(\"SQLSTATE\", err.sqlstate)\n",
    "                            print(\"Message\", err.msg)\n",
    "\n",
    "       \n",
    "              cnx.close()\n",
    "              return mycursor\n",
    "              \n",
    "             \n"
   ]
  },
  {
   "cell_type": "code",
   "execution_count": 7,
   "metadata": {},
   "outputs": [],
   "source": [
    "limpieza = Limpieza_archivos"
   ]
  },
  {
   "cell_type": "code",
   "execution_count": 9,
   "metadata": {},
   "outputs": [],
   "source": [
    "\n",
    "datos_xml =limpieza.limpieza_xml('/home/adalaber/Documents/ejercicios-de-adalab/project-DA-promo-b-modulo-1-team-3/HU2/data/data_xml.xml')"
   ]
  },
  {
   "cell_type": "code",
   "execution_count": 10,
   "metadata": {},
   "outputs": [],
   "source": [
    "datos_txt =limpieza.limpieza_txt('/home/adalaber/Documents/ejercicios-de-adalab/project-DA-promo-b-modulo-1-team-3/HU3/data_txt.txt')"
   ]
  },
  {
   "cell_type": "code",
   "execution_count": 20,
   "metadata": {},
   "outputs": [],
   "source": [
    "datos_sql=limpieza.limpieza_sql('AlumnaAdalab')\n"
   ]
  },
  {
   "cell_type": "code",
   "execution_count": 24,
   "metadata": {},
   "outputs": [],
   "source": [
    "class Data_sql:\n",
    "\n",
    "    def creacion_bbdd(contraseña, query_bbdd):\n",
    "        import mysql.connector\n",
    "        cnx = mysql.connector.connect(user='root', password=contraseña,\n",
    "                                    host='127.0.0.1')\n",
    "\n",
    "\n",
    "        mycursor = cnx.cursor()\n",
    "        try:\n",
    "            mycursor.execute(query_bbdd)\n",
    "            print(mycursor)\n",
    "        except mysql.connector.Error as err:\n",
    "            print(err)\n",
    "            print(\"Error Code:\", err.errno)\n",
    "            print(\"SQLSTATE\", err.sqlstate)\n",
    "            print(\"Message\", err.msg)\n",
    "\n",
    "        cnx.close()\n",
    "        return mycursor\n",
    "        \n",
    "    def creacion_tabla(contraseña, query_tabla):\n",
    "        import mysql.connector\n",
    "        cnx = mysql.connector.connect(user='root', password=contraseña,\n",
    "                                    host='127.0.0.1', database='project1_team3')\n",
    "\n",
    "\n",
    "        mycursor = cnx.cursor()\n",
    "        try:\n",
    "            mycursor.execute(query_tabla)\n",
    "            print(mycursor)\n",
    "        except mysql.connector.Error as err:\n",
    "            print(err)\n",
    "            print(\"Error Code:\", err.errno)\n",
    "            print(\"SQLSTATE\", err.sqlstate)\n",
    "            print(\"Message\", err.msg)\n",
    "\n",
    "        cnx.close()\n",
    "        return mycursor\n",
    "\n",
    "    def drop_constraint(contraseña,nombre_tabla,nombre_constraint):\n",
    "        import mysql.connector\n",
    "        cnx = mysql.connector.connect(user='root', password=contraseña,\n",
    "                                    host='127.0.0.1', database='project1_team3')\n",
    "\n",
    "        mycursor = cnx.cursor()\n",
    "\n",
    "        query_drop = f\"ALTER TABLE {nombre_tabla} DROP CONSTRAINT {nombre_constraint}\"\n",
    "\n",
    "        try:\n",
    "            mycursor.execute(query_drop)\n",
    "            print(mycursor)\n",
    "        except mysql.connector.Error as err:\n",
    "            print(err)\n",
    "            print(\"Error Code:\", err.errno)\n",
    "            print(\"SQLSTATE\", err.sqlstate)\n",
    "            print(\"Message\", err.msg)\n",
    "            \n",
    "        cnx.close() \n",
    "        return mycursor\n",
    "\n",
    "    def insercion_datos(contraseña, query_insercion, datos):\n",
    "        import mysql.connector\n",
    "        cnx = mysql.connector.connect(user='root', password=contraseña,\n",
    "                                    host='127.0.0.1', database='project1_team3')\n",
    "\n",
    "\n",
    "        mycursor = cnx.cursor()\n",
    "\n",
    "        sql = query_insercion\n",
    "        val = datos\n",
    "\n",
    "        try:\n",
    "            mycursor.executemany(sql, val)\n",
    "            cnx.commit()\n",
    "            print(mycursor.rowcount, \"registro/s insertado/s.\")\n",
    "        except mysql.connector.Error as err:\n",
    "            print(err)\n",
    "            print(\"Error Code:\", err.errno)\n",
    "            print(\"SQLSTATE\", err.sqlstate)\n",
    "            print(\"Message\", err.msg)\n",
    "\n",
    "        cnx.close() \n",
    "        return mycursor\n",
    "\n",
    "\n",
    "    def add_constraint(contraseña, nombre_tabla, foreign_key, referencias, nombre_constraint):\n",
    "        #referencias = tabla_madre (columna_referencia)\n",
    "        import mysql.connector\n",
    "        cnx = mysql.connector.connect(user='root', password=contraseña,\n",
    "                                    host='127.0.0.1', database='project1_team3')\n",
    "\n",
    "        mycursor = cnx.cursor()\n",
    "\n",
    "        query_add = f\"ALTER TABLE {nombre_tabla} ADD CONSTRAINT {nombre_constraint} FOREIGN KEY {foreign_key} REFERENCES {referencias}\"\n",
    "\n",
    "        try:\n",
    "            mycursor.execute(query_add)\n",
    "            print(mycursor)\n",
    "        except mysql.connector.Error as err:\n",
    "            print(err)\n",
    "            print(\"Error Code:\", err.errno)\n",
    "            print(\"SQLSTATE\", err.sqlstate)\n",
    "            print(\"Message\", err.msg)\n",
    "        \n",
    "        cnx.close()\n",
    "        return mycursor\n",
    "    \n"
   ]
  },
  {
   "cell_type": "code",
   "execution_count": null,
   "metadata": {},
   "outputs": [],
   "source": [
    "constraint_xml= \"`fk_tabla_xml_data_sql`\"\n",
    "constraint_txt= \"`fk_tabla_txt_data_sql`\"\n"
   ]
  },
  {
   "cell_type": "markdown",
   "metadata": {},
   "source": [
    "*CREACIÓN DE TABLAS*\n",
    "------------------------------"
   ]
  },
  {
   "cell_type": "code",
   "execution_count": 27,
   "metadata": {},
   "outputs": [],
   "source": [
    "bbdd = Data_sql"
   ]
  },
  {
   "cell_type": "code",
   "execution_count": 13,
   "metadata": {},
   "outputs": [
    {
     "name": "stdout",
     "output_type": "stream",
     "text": [
      "CMySQLCursor: CREATE SCHEMA project1_team3;\n"
     ]
    },
    {
     "data": {
      "text/plain": [
       "<mysql.connector.cursor_cext.CMySQLCursor at 0x7fb8b8e61910>"
      ]
     },
     "execution_count": 13,
     "metadata": {},
     "output_type": "execute_result"
    }
   ],
   "source": [
    "\n",
    "bbdd.creacion_bbdd('AlumnaAdalab', 'CREATE SCHEMA project1_team3;')"
   ]
  },
  {
   "cell_type": "code",
   "execution_count": 14,
   "metadata": {},
   "outputs": [
    {
     "name": "stdout",
     "output_type": "stream",
     "text": [
      "CMySQLCursor: CREATE TABLE `data_sql`(\n",
      "               ..\n"
     ]
    },
    {
     "data": {
      "text/plain": [
       "<mysql.connector.cursor_cext.CMySQLCursor at 0x7fb8d0043d30>"
      ]
     },
     "execution_count": 14,
     "metadata": {},
     "output_type": "execute_result"
    }
   ],
   "source": [
    "bbdd.creacion_tabla('AlumnaAdalab', '''CREATE TABLE `data_sql`(\n",
    "                                                    index_sql INT NOT NULL AUTO_INCREMENT,\n",
    "                                                    q10_part_1 VARCHAR(255) DEFAULT NULL,\n",
    "                                                    q10_part_2 VARCHAR(255) DEFAULT NULL,\n",
    "                                                    q10_part_3 VARCHAR(255) DEFAULT NULL,\n",
    "                                                    q10_part_4 VARCHAR(255) DEFAULT NULL,\n",
    "                                                    q10_part_5 VARCHAR(255) DEFAULT NULL,\n",
    "                                                    q10_part_6 VARCHAR(255) DEFAULT NULL,\n",
    "                                                    q10_part_7 VARCHAR(255) DEFAULT NULL,\n",
    "                                                    q10_part_8 VARCHAR(255) DEFAULT NULL,\n",
    "                                                    q10_part_9 VARCHAR(255) DEFAULT NULL, \n",
    "                                                    q10_part_10 VARCHAR(255) DEFAULT NULL,\n",
    "                                                    q10_part_11 VARCHAR(255) DEFAULT NULL,\n",
    "                                                    q10_part_12 VARCHAR(255) DEFAULT NULL,\n",
    "                                                    q10_part_13 VARCHAR(255) DEFAULT NULL,\n",
    "                                                    q10_part_14 VARCHAR(255) DEFAULT NULL,\n",
    "                                                    q10_part_15 VARCHAR(255) DEFAULT NULL,\n",
    "                                                    q10_part_16 VARCHAR(255) DEFAULT NULL,\n",
    "                                                    q10_part_17 VARCHAR(255) DEFAULT NULL,\n",
    "                                                    q10_other VARCHAR(255) DEFAULT NULL,\n",
    "                                                    PRIMARY KEY (index_sql)\n",
    "                                                    );''')"
   ]
  },
  {
   "cell_type": "code",
   "execution_count": 15,
   "metadata": {},
   "outputs": [
    {
     "name": "stdout",
     "output_type": "stream",
     "text": [
      "CMySQLCursor: CREATE TABLE tabla_xml (\n",
      "               ..\n"
     ]
    },
    {
     "data": {
      "text/plain": [
       "<mysql.connector.cursor_cext.CMySQLCursor at 0x7fb8d0043be0>"
      ]
     },
     "execution_count": 15,
     "metadata": {},
     "output_type": "execute_result"
    }
   ],
   "source": [
    "bbdd.creacion_tabla('AlumnaAdalab', '''CREATE TABLE tabla_xml (\n",
    "                                                index_xml INT NOT NULL,\n",
    "                                                `time` VARCHAR(25) DEFAULT NULL,\n",
    "                                                age VARCHAR(25) DEFAULT NULL,\n",
    "                                                gender VARCHAR(25) DEFAULT NULL,\n",
    "                                                index_sql INT NOT NULL,\n",
    "                                                PRIMARY KEY (index_xml),\n",
    "                                                CONSTRAINT `fk_tabla_xml_data_sql`\n",
    "                                                    FOREIGN KEY (index_sql)\n",
    "                                                    REFERENCES data_sql (index_sql)\n",
    "                                                );''')"
   ]
  },
  {
   "cell_type": "code",
   "execution_count": 53,
   "metadata": {},
   "outputs": [
    {
     "name": "stdout",
     "output_type": "stream",
     "text": [
      "CMySQLCursor: CREATE TABLE tabla_txt (\n",
      "               ..\n"
     ]
    },
    {
     "data": {
      "text/plain": [
       "<mysql.connector.cursor_cext.CMySQLCursor at 0x7fb8aa868880>"
      ]
     },
     "execution_count": 53,
     "metadata": {},
     "output_type": "execute_result"
    }
   ],
   "source": [
    "bbdd.creacion_tabla('AlumnaAdalab', '''CREATE TABLE tabla_txt (\n",
    "                                                index_txt INT NOT NULL AUTO_INCREMENT,\n",
    "                                                index_sql INT NOT NULL,\n",
    "                                                q3 VARCHAR(500) DEFAULT NULL,\n",
    "                                                q4 VARCHAR(500) DEFAULT NULL,\n",
    "                                                q5 VARCHAR(500) DEFAULT NULL,\n",
    "                                                q6 VARCHAR(500) DEFAULT NULL,\n",
    "                                                q7 VARCHAR(500) DEFAULT NULL,\n",
    "                                                q8 VARCHAR(500) DEFAULT NULL,\n",
    "                                                q9 VARCHAR(500) DEFAULT NULL,\n",
    "                                                q11 VARCHAR(500) DEFAULT NULL,\n",
    "                                                q12 VARCHAR(500) DEFAULT NULL,\n",
    "                                                q13 VARCHAR(500) DEFAULT NULL,\n",
    "                                                q14 VARCHAR(500) DEFAULT NULL,\n",
    "                                                q15 VARCHAR(500) DEFAULT NULL,\n",
    "                                                q16 VARCHAR(500) DEFAULT NULL,\n",
    "                                                q17 VARCHAR(800) DEFAULT NULL,\n",
    "                                                q20 VARCHAR(500) DEFAULT NULL,\n",
    "                                                q21 VARCHAR(500) DEFAULT NULL,\n",
    "                                                q22 VARCHAR(500) DEFAULT NULL,\n",
    "                                                q23 VARCHAR(500) DEFAULT NULL,\n",
    "                                                q24 VARCHAR(500) DEFAULT NULL,\n",
    "                                                q25 VARCHAR(500) DEFAULT NULL,\n",
    "                                                q26 VARCHAR(500) DEFAULT NULL,\n",
    "                                                q32 VARCHAR(500) DEFAULT NULL,\n",
    "                                                q33 VARCHAR(500) DEFAULT NULL,\n",
    "                                                q34 VARCHAR(500) DEFAULT NULL,\n",
    "                                                q35 VARCHAR(500) DEFAULT NULL,\n",
    "                                                q41 VARCHAR(500) DEFAULT NULL,\n",
    "                                                PRIMARY KEY (index_txt),\n",
    "                                                CONSTRAINT `fk_tabla_txt_data_sql`\n",
    "                                                    FOREIGN KEY (index_sql)\n",
    "                                                    REFERENCES data_sql (index_sql)\n",
    "                                                );''')"
   ]
  },
  {
   "cell_type": "markdown",
   "metadata": {},
   "source": [
    "*ALTERACIÓN DE TABLAS*\n",
    "------------------------------"
   ]
  },
  {
   "cell_type": "code",
   "execution_count": 22,
   "metadata": {},
   "outputs": [
    {
     "name": "stdout",
     "output_type": "stream",
     "text": [
      "3940 (HY000): Constraint 'fk_tabla_xml_data_sql' does not exist.\n",
      "Error Code: 3940\n",
      "SQLSTATE HY000\n",
      "Message Constraint 'fk_tabla_xml_data_sql' does not exist.\n"
     ]
    },
    {
     "data": {
      "text/plain": [
       "<mysql.connector.cursor_cext.CMySQLCursor at 0x7fb8b90fecd0>"
      ]
     },
     "execution_count": 22,
     "metadata": {},
     "output_type": "execute_result"
    }
   ],
   "source": [
    "bbdd.drop_constraint('AlumnaAdalab','tabla_xml','`fk_tabla_xml_data_sql`')"
   ]
  },
  {
   "cell_type": "code",
   "execution_count": 54,
   "metadata": {},
   "outputs": [
    {
     "name": "stdout",
     "output_type": "stream",
     "text": [
      "CMySQLCursor: ALTER TABLE tabla_txt DROP CONSTRAINT `f..\n"
     ]
    },
    {
     "data": {
      "text/plain": [
       "<mysql.connector.cursor_cext.CMySQLCursor at 0x7fb8aa868dc0>"
      ]
     },
     "execution_count": 54,
     "metadata": {},
     "output_type": "execute_result"
    }
   ],
   "source": [
    "bbdd.drop_constraint('AlumnaAdalab','tabla_txt','`fk_tabla_txt_data_sql`')"
   ]
  },
  {
   "cell_type": "markdown",
   "metadata": {},
   "source": [
    "*INSERCIÓN DE DATOS*\n",
    "------------------------------"
   ]
  },
  {
   "cell_type": "code",
   "execution_count": 28,
   "metadata": {},
   "outputs": [
    {
     "name": "stdout",
     "output_type": "stream",
     "text": [
      "25972 registro/s insertado/s.\n"
     ]
    },
    {
     "data": {
      "text/plain": [
       "<mysql.connector.cursor_cext.CMySQLCursor at 0x7fb8b90fe490>"
      ]
     },
     "execution_count": 28,
     "metadata": {},
     "output_type": "execute_result"
    }
   ],
   "source": [
    "bbdd.insercion_datos('AlumnaAdalab', 'INSERT INTO  tabla_xml (time, age, gender, index_xml, index_sql) VALUES (%s, %s, %s, %s, %s)', datos_xml) \n"
   ]
  },
  {
   "cell_type": "code",
   "execution_count": 55,
   "metadata": {},
   "outputs": [
    {
     "name": "stdout",
     "output_type": "stream",
     "text": [
      "25972 registro/s insertado/s.\n"
     ]
    },
    {
     "data": {
      "text/plain": [
       "<mysql.connector.cursor_cext.CMySQLCursor at 0x7fb8aa8689d0>"
      ]
     },
     "execution_count": 55,
     "metadata": {},
     "output_type": "execute_result"
    }
   ],
   "source": [
    "bbdd.insercion_datos('AlumnaAdalab', 'INSERT INTO tabla_txt (index_sql, q3, q4, q5, q6, q7, q8, q9, q11, q12, q13, q14, q15, q16, q17, q20, q21, q22, q23, q24, q25, q26, q32, q33, q34, q35, q41) VALUES (%s,%s,%s,%s,%s,%s,%s,%s,%s,%s,%s,%s,%s,%s,%s,%s,%s,%s,%s,%s,%s,%s,%s,%s,%s,%s,%s)', datos_txt) "
   ]
  },
  {
   "cell_type": "markdown",
   "metadata": {},
   "source": [
    "*ADD CONSTRAINT*\n",
    "------------------------------"
   ]
  },
  {
   "cell_type": "code",
   "execution_count": 57,
   "metadata": {},
   "outputs": [
    {
     "name": "stdout",
     "output_type": "stream",
     "text": [
      "CMySQLCursor: ALTER TABLE tabla_xml ADD CONSTRAINT `fk..\n"
     ]
    },
    {
     "data": {
      "text/plain": [
       "<mysql.connector.cursor_cext.CMySQLCursor at 0x7fb8aa868970>"
      ]
     },
     "execution_count": 57,
     "metadata": {},
     "output_type": "execute_result"
    }
   ],
   "source": [
    "bbdd.add_constraint('AlumnaAdalab', 'tabla_xml', '(index_sql)', 'data_sql (index_sql)', '`fk_tabla_xml_data_sql`')"
   ]
  },
  {
   "cell_type": "code",
   "execution_count": 58,
   "metadata": {},
   "outputs": [
    {
     "name": "stdout",
     "output_type": "stream",
     "text": [
      "CMySQLCursor: ALTER TABLE tabla_txt ADD CONSTRAINT `fk..\n"
     ]
    },
    {
     "data": {
      "text/plain": [
       "<mysql.connector.cursor_cext.CMySQLCursor at 0x7fb8aa868940>"
      ]
     },
     "execution_count": 58,
     "metadata": {},
     "output_type": "execute_result"
    }
   ],
   "source": [
    "bbdd.add_constraint('AlumnaAdalab', 'tabla_txt', '(index_sql)', 'data_sql (index_sql)', '`fk_tabla_txt_data_sql`')"
   ]
  }
 ],
 "metadata": {
  "kernelspec": {
   "display_name": "Python 3.9.7 ('base')",
   "language": "python",
   "name": "python3"
  },
  "language_info": {
   "codemirror_mode": {
    "name": "ipython",
    "version": 3
   },
   "file_extension": ".py",
   "mimetype": "text/x-python",
   "name": "python",
   "nbconvert_exporter": "python",
   "pygments_lexer": "ipython3",
   "version": "3.9.7"
  },
  "orig_nbformat": 4,
  "vscode": {
   "interpreter": {
    "hash": "0620710c65b0f5ccc651a2aa8870ae0eb4c70492424a8d7866846658189426a3"
   }
  }
 },
 "nbformat": 4,
 "nbformat_minor": 2
}
